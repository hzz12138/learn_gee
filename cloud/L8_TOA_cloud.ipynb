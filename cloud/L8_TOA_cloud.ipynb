{
 "cells": [
  {
   "cell_type": "code",
   "execution_count": 1,
   "id": "be8e8dff",
   "metadata": {},
   "outputs": [],
   "source": [
    "import ee\n",
    "import geemap"
   ]
  },
  {
   "cell_type": "code",
   "execution_count": 13,
   "id": "2f12b6ee",
   "metadata": {},
   "outputs": [
    {
     "data": {
      "application/vnd.jupyter.widget-view+json": {
       "model_id": "2c35fd4f410a4937809dff533654fd56",
       "version_major": 2,
       "version_minor": 0
      },
      "text/plain": [
       "Map(center=[40.964, 108.884], controls=(WidgetControl(options=['position', 'transparent_bg'], widget=HBox(chil…"
      ]
     },
     "metadata": {},
     "output_type": "display_data"
    }
   ],
   "source": [
    "# 显示地图，并选中湖泊\n",
    "Map = geemap.Map(center=[40.964,108.884],zoom = 10)\n",
    "Map"
   ]
  },
  {
   "cell_type": "code",
   "execution_count": 14,
   "id": "7bda9956",
   "metadata": {},
   "outputs": [],
   "source": [
    "#在地图中选择研究区，并转为ROI。选定好后再运行下两行代码\n",
    "Map.draw_last_feature\n",
    "roi = ee.FeatureCollection(Map.draw_last_feature)"
   ]
  },
  {
   "cell_type": "code",
   "execution_count": 15,
   "id": "fc8a09be",
   "metadata": {},
   "outputs": [],
   "source": [
    "l8_vis_params = {\n",
    "  'bands':['B5','B4','B3'],\n",
    "  'min':0,\n",
    "  'max': 0.3\n",
    "}"
   ]
  },
  {
   "cell_type": "code",
   "execution_count": 17,
   "id": "69ae3ef9",
   "metadata": {},
   "outputs": [
    {
     "name": "stdout",
     "output_type": "stream",
     "text": [
      "已选择22景L8影像\n",
      "['LC08_128031_20190703', 'LC08_128031_20190804', 'LC08_128031_20190820', 'LC08_128031_20190905', 'LC08_128031_20190921', 'LC08_128031_20191007', 'LC08_128031_20191023', 'LC08_128032_20190703', 'LC08_128032_20190804', 'LC08_128032_20190820', 'LC08_128032_20190905', 'LC08_128032_20190921', 'LC08_128032_20191007', 'LC08_128032_20191023', 'LC08_129031_20190710', 'LC08_129031_20190726', 'LC08_129031_20190811', 'LC08_129031_20190827', 'LC08_129032_20190710', 'LC08_129032_20190726', 'LC08_129032_20190811', 'LC08_129032_20190827']\n",
      "[0, 92.55000305175781, 9.15999984741211, 5.449999809265137, 13.65999984741211, 0.009999999776482582, 90.25, 0.41999998688697815, 75.20999908447266, 9.430000305175781, 17.030000686645508, 3.5299999713897705, 0.019999999552965164, 52.810001373291016, 6.260000228881836, 31.84000015258789, 18.56999969482422, 0.5699999928474426, 7.039999961853027, 16.209999084472656, 6.039999961853027, 0.8700000047683716]\n"
     ]
    }
   ],
   "source": [
    "# 选择L8-TOA影像\n",
    "l8_col = ee.ImageCollection('LANDSAT/LC08/C01/T1_TOA').filterBounds(roi)\\\n",
    "    .filter(ee.Filter.calendarRange(2019,2019,'year'))\\\n",
    "    .filter(ee.Filter.calendarRange(7,10,'month'))\\\n",
    "\n",
    "print(f\"\"\"已选择{l8_col.size().getInfo()}景L8影像\"\"\")\n",
    "print(l8_col.aggregate_array('system:index').getInfo())\n",
    "print(l8_col.aggregate_array('CLOUD_COVER').getInfo())"
   ]
  },
  {
   "cell_type": "code",
   "execution_count": 11,
   "id": "7f4d4603",
   "metadata": {},
   "outputs": [],
   "source": [
    "def l8_toa_select_by_cloud(l8_col,roi,threshold):\n",
    "    ##依次传入影像集合、研究区roi，云量阈值\n",
    "    \n",
    "    #计算l8_collection-Imagecollection中Image数量\n",
    "    count = l8_col.size().getInfo()\n",
    "    print(count)\n",
    "    #定义图像裁剪函数\n",
    "    def img_clip(image):\n",
    "        clip_img = image.clip(roi)\n",
    "        return clip_img        \n",
    "    \n",
    "    #进行图像裁剪\n",
    "    l8_col_clip = l8_col.map(img_clip)\n",
    "    l8_col_clip_list = l8_col_clip.toList(count)\n",
    "    #创建列表，用来存储满足的影像名\n",
    "    nice_list = []\n",
    "    \n",
    "    #定义云量计算函数\n",
    "    def l8_img_cloud_cal(image):\n",
    "        image = ee.Algorithms.Landsat.simpleCloudScore(image)\n",
    "        cloud = image.select('cloud')\n",
    "        hist = cloud.reduceRegion(ee.Reducer.histogram(100), roi, 30).getInfo()\n",
    "        count_clear = sum(hist['cloud']['histogram'][0:10])\n",
    "        count_sum = sum(hist['cloud']['histogram'])\n",
    "        print(f\"\"\"\n",
    "            {image.getInfo()['properties']['system:index']}研究区云量为：{1-(count_clear/count_sum)},全景云量为:{image.getInfo()['properties']['CLOUD_COVER']/100},\n",
    "            被选中：{(1-(count_clear/count_sum))<threshold}\"\"\")\n",
    "        if((1-(count_clear/count_sum))<threshold):\n",
    "            nice_list.append('LANDSAT/LC08/C01/T1_TOA/'+image.getInfo()['properties']['system:index'])\n",
    "    \n",
    "    #遍历Image，计算云量，获取满足条件的影像。\n",
    "    for i in range(count):\n",
    "        img = ee.Image(l8_col_clip_list.get(i))\n",
    "        print(f\"\"\"第{i+1}景影像处理中，未提示为研究区内无云\"\"\")\n",
    "        l8_img_cloud_cal(img)\n",
    "    \n",
    "    #将选择的影像与少云影像集合合并\n",
    "    selected_col = ee.ImageCollection(nice_list)\n",
    "    \n",
    "    return selected_col\n",
    "    \n",
    "    "
   ]
  },
  {
   "cell_type": "code",
   "execution_count": 12,
   "id": "ec5c31ec",
   "metadata": {},
   "outputs": [
    {
     "name": "stdout",
     "output_type": "stream",
     "text": [
      "27\n",
      "第1景影像处理中，未提示为研究区内无云\n",
      "\n",
      "            LC08_128031_20190703研究区云量为：0.00014164481664213913,全景云量为:0.0,\n",
      "            被选中：True\n",
      "第2景影像处理中，未提示为研究区内无云\n",
      "\n",
      "            LC08_128031_20190804研究区云量为：0.5128451124408581,全景云量为:0.9255000305175781,\n",
      "            被选中：False\n",
      "第3景影像处理中，未提示为研究区内无云\n",
      "\n",
      "            LC08_128031_20190820研究区云量为：0.4150532708839043,全景云量为:0.09159999847412109,\n",
      "            被选中：False\n",
      "第4景影像处理中，未提示为研究区内无云\n",
      "\n",
      "            LC08_128031_20190905研究区云量为：0.033727334810878196,全景云量为:0.05449999809265137,\n",
      "            被选中：True\n",
      "第5景影像处理中，未提示为研究区内无云\n",
      "\n",
      "            LC08_128031_20190921研究区云量为：0.20306787679150118,全景云量为:0.1365999984741211,\n",
      "            被选中：False\n",
      "第6景影像处理中，未提示为研究区内无云\n",
      "\n",
      "            LC08_128031_20191007研究区云量为：0.2870847545515882,全景云量为:9.999999776482581e-05,\n",
      "            被选中：False\n",
      "第7景影像处理中，未提示为研究区内无云\n",
      "\n",
      "            LC08_128031_20191023研究区云量为：0.9112145324255841,全景云量为:0.9025,\n",
      "            被选中：False\n",
      "第8景影像处理中，未提示为研究区内无云\n",
      "\n",
      "            LC08_128032_20190703研究区云量为：5.425170621620179e-05,全景云量为:0.004199999868869781,\n",
      "            被选中：True\n",
      "第9景影像处理中，未提示为研究区内无云\n",
      "\n",
      "            LC08_128032_20190804研究区云量为：0.569117503451366,全景云量为:0.7520999908447266,\n",
      "            被选中：False\n",
      "第10景影像处理中，未提示为研究区内无云\n",
      "\n",
      "            LC08_128032_20190820研究区云量为：0.5180811150236166,全景云量为:0.09430000305175781,\n",
      "            被选中：False\n",
      "第11景影像处理中，未提示为研究区内无云\n",
      "\n",
      "            LC08_128032_20190905研究区云量为：0.030440547257172157,全景云量为:0.17030000686645508,\n",
      "            被选中：True\n",
      "第12景影像处理中，未提示为研究区内无云\n",
      "\n",
      "            LC08_128032_20190921研究区云量为：0.17414053064125712,全景云量为:0.0352999997138977,\n",
      "            被选中：False\n",
      "第13景影像处理中，未提示为研究区内无云\n",
      "\n",
      "            LC08_128032_20191007研究区云量为：0.2939687208064653,全景云量为:0.00019999999552965163,\n",
      "            被选中：False\n",
      "第14景影像处理中，未提示为研究区内无云\n",
      "\n",
      "            LC08_128032_20191023研究区云量为：0.8693191070467008,全景云量为:0.5281000137329102,\n",
      "            被选中：False\n",
      "第15景影像处理中，未提示为研究区内无云\n",
      "\n",
      "            LC08_129031_20190710研究区云量为：0.10262560011768862,全景云量为:0.06260000228881836,\n",
      "            被选中：False\n",
      "第16景影像处理中，未提示为研究区内无云\n",
      "\n",
      "            LC08_129031_20190726研究区云量为：0.0,全景云量为:0.3184000015258789,\n",
      "            被选中：True\n",
      "第17景影像处理中，未提示为研究区内无云\n",
      "\n",
      "            LC08_129031_20190811研究区云量为：0.4398751978797447,全景云量为:0.18569999694824219,\n",
      "            被选中：False\n",
      "第18景影像处理中，未提示为研究区内无云\n",
      "\n",
      "            LC08_129031_20190827研究区云量为：0.2558120270808443,全景云量为:0.0056999999284744265,\n",
      "            被选中：False\n",
      "第19景影像处理中，未提示为研究区内无云\n",
      "\n",
      "            LC08_129031_20190928研究区云量为：0.8795903443700621,全景云量为:0.12630000114440917,\n",
      "            被选中：False\n",
      "第20景影像处理中，未提示为研究区内无云\n",
      "\n",
      "            LC08_129031_20191014研究区云量为：0.9785873082742832,全景云量为:0.3825,\n",
      "            被选中：False\n",
      "第21景影像处理中，未提示为研究区内无云\n",
      "\n",
      "            LC08_129031_20191030研究区云量为：0.9447374206068743,全景云量为:9.999999776482581e-05,\n",
      "            被选中：False\n",
      "第22景影像处理中，未提示为研究区内无云\n",
      "\n",
      "            LC08_129032_20190710研究区云量为：0.09471157135013974,全景云量为:0.07039999961853027,\n",
      "            被选中：True\n",
      "第23景影像处理中，未提示为研究区内无云\n",
      "\n",
      "            LC08_129032_20190726研究区云量为：0.0,全景云量为:0.16209999084472657,\n",
      "            被选中：True\n",
      "第24景影像处理中，未提示为研究区内无云\n",
      "\n",
      "            LC08_129032_20190811研究区云量为：0.4411442230793289,全景云量为:0.06039999961853027,\n",
      "            被选中：False\n",
      "第25景影像处理中，未提示为研究区内无云\n",
      "\n",
      "            LC08_129032_20190827研究区云量为：0.22719314659423273,全景云量为:0.008700000047683716,\n",
      "            被选中：False\n",
      "第26景影像处理中，未提示为研究区内无云\n",
      "\n",
      "            LC08_129032_20190928研究区云量为：0.7984112400379899,全景云量为:0.049000000953674315,\n",
      "            被选中：False\n",
      "第27景影像处理中，未提示为研究区内无云\n",
      "\n",
      "            LC08_129032_20191030研究区云量为：0.13858519996627405,全景云量为:0.0010000000149011613,\n",
      "            被选中：False\n",
      "合并后共7景L8研究区无云影像\n",
      "['LC08_128031_20190703', 'LC08_128031_20190905', 'LC08_128032_20190703', 'LC08_128032_20190905', 'LC08_129031_20190726', 'LC08_129032_20190710', 'LC08_129032_20190726']\n"
     ]
    }
   ],
   "source": [
    "result_col = l8_toa_select_by_cloud(l8_col,roi,0.1)\n",
    "\n",
    "print(f\"\"\"共{result_col.size().getInfo()}景L8研究区无云影像\"\"\")\n",
    "print(result_col.aggregate_array('system:index').getInfo())"
   ]
  },
  {
   "cell_type": "code",
   "execution_count": null,
   "id": "e69bc313",
   "metadata": {},
   "outputs": [],
   "source": []
  }
 ],
 "metadata": {
  "kernelspec": {
   "display_name": "Python [conda env:gee] *",
   "language": "python",
   "name": "conda-env-gee-py"
  },
  "language_info": {
   "codemirror_mode": {
    "name": "ipython",
    "version": 3
   },
   "file_extension": ".py",
   "mimetype": "text/x-python",
   "name": "python",
   "nbconvert_exporter": "python",
   "pygments_lexer": "ipython3",
   "version": "3.7.10"
  }
 },
 "nbformat": 4,
 "nbformat_minor": 5
}
