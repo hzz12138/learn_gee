{
 "cells": [
  {
   "cell_type": "code",
   "execution_count": 1,
   "id": "5ad62636",
   "metadata": {},
   "outputs": [],
   "source": [
    "import ee\n",
    "import geemap"
   ]
  },
  {
   "cell_type": "code",
   "execution_count": 29,
   "id": "df72b3cc",
   "metadata": {},
   "outputs": [
    {
     "data": {
      "application/vnd.jupyter.widget-view+json": {
       "model_id": "0534aad1627a4d8caac3928c9799807a",
       "version_major": 2,
       "version_minor": 0
      },
      "text/plain": [
       "Map(center=[40.964, 108.884], controls=(WidgetControl(options=['position', 'transparent_bg'], widget=HBox(chil…"
      ]
     },
     "metadata": {},
     "output_type": "display_data"
    }
   ],
   "source": [
    "# 显示地图，并选中湖泊\n",
    "Map = geemap.Map(center=[40.964,108.884],zoom = 10)\n",
    "Map"
   ]
  },
  {
   "cell_type": "code",
   "execution_count": 58,
   "id": "d5240f5b",
   "metadata": {},
   "outputs": [],
   "source": [
    "#在地图中选择研究区，并转为ROI。选定好后再运行下两行代码\n",
    "Map.draw_last_feature\n",
    "roi = ee.FeatureCollection(Map.draw_last_feature)"
   ]
  },
  {
   "cell_type": "code",
   "execution_count": 59,
   "id": "c5db7dd6",
   "metadata": {},
   "outputs": [],
   "source": [
    "l8_vis_params = {\n",
    "  'bands':['B5','B4','B3'],\n",
    "  'min':0,\n",
    "  'max': 0.3\n",
    "}"
   ]
  },
  {
   "cell_type": "code",
   "execution_count": 72,
   "id": "76a2593e",
   "metadata": {},
   "outputs": [
    {
     "name": "stdout",
     "output_type": "stream",
     "text": [
      "已选择14景L8影像\n",
      "['LC08_125032_20190714', 'LC08_125032_20190730', 'LC08_125032_20190815', 'LC08_125032_20190831', 'LC08_125032_20190916', 'LC08_125032_20191002', 'LC08_125032_20191018', 'LC08_126032_20190705', 'LC08_126032_20190721', 'LC08_126032_20190806', 'LC08_126032_20190907', 'LC08_126032_20190923', 'LC08_126032_20191009', 'LC08_126032_20191025']\n",
      "[2.03, 3.19, 3.63, 3.55, 1.53, 0.17, 40.26, 62.31, 27.27, 5.2, 18.29, 11.5, 41.48, 4.44]\n"
     ]
    }
   ],
   "source": [
    "# 选择L8-SR影像\n",
    "l8_col = ee.ImageCollection('LANDSAT/LC08/C01/T1_SR').filterBounds(roi)\\\n",
    "    .filter(ee.Filter.calendarRange(2019,2019,'year'))\\\n",
    "    .filter(ee.Filter.calendarRange(7,10,'month'))\\\n",
    "\n",
    "print(f\"\"\"已选择{l8_col.size().getInfo()}景L8影像\"\"\")\n",
    "print(l8_col.aggregate_array('system:index').getInfo())\n",
    "print(l8_col.aggregate_array('CLOUD_COVER').getInfo())"
   ]
  },
  {
   "cell_type": "code",
   "execution_count": 79,
   "id": "17e33d4f",
   "metadata": {},
   "outputs": [],
   "source": [
    "def l8_sr_select_by_cloud(l8_col,roi,threshold):\n",
    "    ##依次传入影像集合、研究区roi，云量阈值\n",
    "    \n",
    "    #计算l8_collection-Imagecollection中Image数量\n",
    "    count = l8_col.size().getInfo()\n",
    "    print(count)\n",
    "    #定义图像裁剪函数\n",
    "    def img_clip(image):\n",
    "        clip_img = image.clip(roi)\n",
    "        return clip_img        \n",
    "    \n",
    "    #进行图像裁剪\n",
    "    l8_col_clip = l8_col.map(img_clip)\n",
    "    l8_col_clip_list = l8_col_clip.toList(count)\n",
    "    #创建列表，用来存储满足\n",
    "    nice_list = []\n",
    "    \n",
    "    #qa波段云量识别\n",
    "    def rmCloud(image):\n",
    "        cloudShadowBitMask = (1 << 3)\n",
    "        cloudsBitMask = (1 << 5)\n",
    "        qa = image.select(\"pixel_qa\")\n",
    "        mask = qa.bitwiseAnd(cloudShadowBitMask).eq(0) \\\n",
    "                 .And(qa.bitwiseAnd(cloudsBitMask).eq(0))\n",
    "        return mask   \n",
    "    \n",
    "    #定义云量计算函数\n",
    "    def l8_img_cloud_cal(image):\n",
    "        mask = rmCloud(image)\n",
    "        hist = mask.reduceRegion(ee.Reducer.histogram(1), roi, 30).getInfo()\n",
    "        #print(hist['pixel_qa']['histogram'])\n",
    "        if len(hist['pixel_qa']['histogram']) == 2:\n",
    "            count_clear = hist['pixel_qa']['histogram'][1]\n",
    "            count_sum = hist['pixel_qa']['histogram'][0]+hist['pixel_qa']['histogram'][1]\n",
    "            print(f\"\"\"{image.getInfo()['properties']['system:index']}研究区云量为：{1-(count_clear/count_sum)},全景云量为:{image.getInfo()['properties']['CLOUD_COVER']/100},\n",
    "                被选中：{(1-(count_clear/count_sum))<threshold}\"\"\")\n",
    "            if((1-(count_clear/count_sum))<threshold):\n",
    "                nice_list.append('LANDSAT/LC08/C01/T1_TOA/'+image.getInfo()['properties']['system:index'])\n",
    "        elif len(hist['pixel_qa']['histogram']) == 1:\n",
    "            count_sum = hist['pixel_qa']['histogram'][0]\n",
    "            nice_list.append('LANDSAT/LC08/C01/T1_TOA/'+image.getInfo()['properties']['system:index'])\n",
    "        #return image\n",
    "    \n",
    "    #遍历Image，计算云量，获取满足条件的影像。\n",
    "    for i in range(count):\n",
    "        img = ee.Image(l8_col_clip_list.get(i))\n",
    "        print(f\"\"\"第{i+1}景影像处理中，未提示为研究区内无云\"\"\")\n",
    "        l8_img_cloud_cal(img)\n",
    "    #print(nice_list)\n",
    "    \n",
    "    #将选择的影像与少云影像集合合并\n",
    "    selected_col = ee.ImageCollection(nice_list)\n",
    "    #result_col = cloudless_col.merge(selected_col)\n",
    "    \n",
    "    return selected_col\n",
    "    \n",
    "    "
   ]
  },
  {
   "cell_type": "code",
   "execution_count": 80,
   "id": "b1d28cac",
   "metadata": {},
   "outputs": [
    {
     "name": "stdout",
     "output_type": "stream",
     "text": [
      "14\n",
      "第1景影像处理中，未提示为研究区内无云\n",
      "LC08_125032_20190714研究区云量为：0.010022092214348244,全景云量为:0.0203,\n",
      "                被选中：True\n",
      "第2景影像处理中，未提示为研究区内无云\n",
      "LC08_125032_20190730研究区云量为：0.037274362622617296,全景云量为:0.0319,\n",
      "                被选中：True\n",
      "第3景影像处理中，未提示为研究区内无云\n",
      "LC08_125032_20190815研究区云量为：0.00011314356921843238,全景云量为:0.0363,\n",
      "                被选中：True\n",
      "第4景影像处理中，未提示为研究区内无云\n",
      "LC08_125032_20190831研究区云量为：0.03049193617489132,全景云量为:0.0355,\n",
      "                被选中：True\n",
      "第5景影像处理中，未提示为研究区内无云\n",
      "LC08_125032_20190916研究区云量为：4.335733177440737e-05,全景云量为:0.015300000000000001,\n",
      "                被选中：True\n",
      "第6景影像处理中，未提示为研究区内无云\n",
      "LC08_125032_20191002研究区云量为：0.0005030670494809986,全景云量为:0.0017000000000000001,\n",
      "                被选中：True\n",
      "第7景影像处理中，未提示为研究区内无云\n",
      "LC08_125032_20191018研究区云量为：0.5552350389475289,全景云量为:0.40259999999999996,\n",
      "                被选中：False\n",
      "第8景影像处理中，未提示为研究区内无云\n",
      "LC08_126032_20190705研究区云量为：0.8454217582517984,全景云量为:0.6231,\n",
      "                被选中：False\n",
      "第9景影像处理中，未提示为研究区内无云\n",
      "LC08_126032_20190721研究区云量为：0.0031740601640650734,全景云量为:0.2727,\n",
      "                被选中：True\n",
      "第10景影像处理中，未提示为研究区内无云\n",
      "LC08_126032_20190806研究区云量为：0.24500980445393294,全景云量为:0.052000000000000005,\n",
      "                被选中：False\n",
      "第11景影像处理中，未提示为研究区内无云\n",
      "LC08_126032_20190907研究区云量为：0.3235392313551285,全景云量为:0.18289999999999998,\n",
      "                被选中：False\n",
      "第12景影像处理中，未提示为研究区内无云\n",
      "LC08_126032_20190923研究区云量为：0.07720210102723946,全景云量为:0.115,\n",
      "                被选中：True\n",
      "第13景影像处理中，未提示为研究区内无云\n",
      "LC08_126032_20191009研究区云量为：0.9661304549130812,全景云量为:0.41479999999999995,\n",
      "                被选中：False\n",
      "第14景影像处理中，未提示为研究区内无云\n",
      "LC08_126032_20191025研究区云量为：0.000924041061376446,全景云量为:0.0444,\n",
      "                被选中：True\n",
      "共9景L8研究区无云影像\n",
      "['LC08_125032_20190714', 'LC08_125032_20190730', 'LC08_125032_20190815', 'LC08_125032_20190831', 'LC08_125032_20190916', 'LC08_125032_20191002', 'LC08_126032_20190721', 'LC08_126032_20190923', 'LC08_126032_20191025']\n"
     ]
    }
   ],
   "source": [
    "result_col = l8_sr_select_by_cloud(l8_col,roi,0.1)\n",
    "\n",
    "print(f\"\"\"共{result_col.size().getInfo()}景L8研究区无云影像\"\"\")\n",
    "print(result_col.aggregate_array('system:index').getInfo())"
   ]
  },
  {
   "cell_type": "code",
   "execution_count": null,
   "id": "a1df636c",
   "metadata": {},
   "outputs": [],
   "source": []
  }
 ],
 "metadata": {
  "kernelspec": {
   "display_name": "Python [conda env:gee] *",
   "language": "python",
   "name": "conda-env-gee-py"
  },
  "language_info": {
   "codemirror_mode": {
    "name": "ipython",
    "version": 3
   },
   "file_extension": ".py",
   "mimetype": "text/x-python",
   "name": "python",
   "nbconvert_exporter": "python",
   "pygments_lexer": "ipython3",
   "version": "3.7.10"
  }
 },
 "nbformat": 4,
 "nbformat_minor": 5
}
